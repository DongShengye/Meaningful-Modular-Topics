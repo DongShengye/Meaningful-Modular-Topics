{
 "cells": [
  {
   "cell_type": "code",
   "execution_count": 1,
   "metadata": {},
   "outputs": [
    {
     "name": "stdout",
     "output_type": "stream",
     "text": [
      "Lambda: [[4. 0. 0. 0.]\n",
      " [0. 4. 0. 0.]\n",
      " [0. 0. 1. 0.]\n",
      " [0. 0. 0. 2.]]\n",
      "V: [[-5.77350269e-01  5.77350269e-01 -7.07106781e-01 -5.77350269e-01]\n",
      " [ 0.00000000e+00  0.00000000e+00  7.07106781e-01  5.77350269e-01]\n",
      " [ 5.77350269e-01 -5.77350269e-01  1.55241466e-16  4.98571317e-16]\n",
      " [-5.77350269e-01  5.77350269e-01  4.18918462e-16 -5.77350269e-01]]\n",
      "[[ 3.61658075e+00  3.83419246e-01 -1.11863265e+00 -1.97600420e+00]\n",
      " [-1.38341925e+00  4.88341925e+00 -1.11863265e+00 -1.97600420e+00]\n",
      " [-1.11022302e-16  1.11022302e-16  1.00000000e+00  1.66533454e-15]\n",
      " [ 2.22044605e-16 -2.22044605e-16 -1.04689286e-15  2.00000000e+00]]\n",
      "[[-2.30940108e+00  2.30940108e+00 -7.07106781e-01 -1.15470054e+00]\n",
      " [ 0.00000000e+00  0.00000000e+00  7.07106781e-01  1.15470054e+00]\n",
      " [ 2.30940108e+00 -2.30940108e+00  4.65724398e-16  1.49571395e-15]\n",
      " [-2.30940108e+00  2.30940108e+00  6.82595458e-16 -1.15470054e+00]]\n",
      "[[-2.30940108e+00  2.30940108e+00 -7.07106781e-01 -1.15470054e+00]\n",
      " [ 0.00000000e+00  0.00000000e+00  7.07106781e-01  1.15470054e+00]\n",
      " [ 2.30940108e+00 -2.30940108e+00  1.55241466e-16  9.97142634e-16]\n",
      " [-2.30940108e+00  2.30940108e+00  4.18918462e-16 -1.15470054e+00]]\n"
     ]
    }
   ],
   "source": [
    "import numpy as np\n",
    "\n",
    "def diagonalize(A):\n",
    "\n",
    "\n",
    "    # Compute the eigenvalues and eigenvectors of A\n",
    "    eigvals, eigvecs = np.linalg.eig(A)\n",
    "\n",
    "    # Construct the diagonal matrix of eigenvalues\n",
    "    Lambda = np.diag(eigvals)\n",
    "\n",
    "    # Construct the matrix of eigenvectors\n",
    "    V = eigvecs\n",
    "\n",
    "    # Return the diagonal matrix and matrix of eigenvectors\n",
    "    return Lambda, V\n",
    "\n",
    "# Example usage\n",
    "A = np.array([[5, 4, 2, 1], [0, 1, -1, -1], [-1, -1, 3, 0], [1, 1, -1, 2]])\n",
    "Lambda, V = diagonalize(A)\n",
    "print(\"Lambda:\", Lambda)\n",
    "print(\"V:\", V)\n",
    "print(np.linalg.inv(V)@A@V)\n",
    "print(A@V)\n",
    "print(V@Lambda)"
   ]
  }
 ],
 "metadata": {
  "kernelspec": {
   "display_name": "Python 3",
   "language": "python",
   "name": "python3"
  },
  "language_info": {
   "codemirror_mode": {
    "name": "ipython",
    "version": 3
   },
   "file_extension": ".py",
   "mimetype": "text/x-python",
   "name": "python",
   "nbconvert_exporter": "python",
   "pygments_lexer": "ipython3",
   "version": "3.10.8"
  },
  "orig_nbformat": 4,
  "vscode": {
   "interpreter": {
    "hash": "138b4713af5235a70b5384d92e28cee99f63c1259256a0243797753507c0c38f"
   }
  }
 },
 "nbformat": 4,
 "nbformat_minor": 2
}
