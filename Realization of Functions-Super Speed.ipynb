{
 "cells": [
  {
   "attachments": {},
   "cell_type": "markdown",
   "metadata": {},
   "source": [
    "1. Find close distance between one point and a set of points in super fast speed(ICP)"
   ]
  },
  {
   "cell_type": "code",
   "execution_count": 2,
   "metadata": {},
   "outputs": [
    {
     "name": "stdout",
     "output_type": "stream",
     "text": [
      "[4.12310563 2.        ]\n",
      "[1 6 5]\n"
     ]
    }
   ],
   "source": [
    "import numpy as np\n",
    "B = np.array([[1,4,8],[1,6,5]])\n",
    "point_a = np.array([3,6,5])\n",
    "\n",
    "distances = np.linalg.norm(B - point_a, axis=1)\n",
    "print(distances)\n",
    "closest_point = B[np.argmin(distances)]\n",
    "print(closest_point)"
   ]
  }
 ],
 "metadata": {
  "kernelspec": {
   "display_name": "Python 3",
   "language": "python",
   "name": "python3"
  },
  "language_info": {
   "codemirror_mode": {
    "name": "ipython",
    "version": 3
   },
   "file_extension": ".py",
   "mimetype": "text/x-python",
   "name": "python",
   "nbconvert_exporter": "python",
   "pygments_lexer": "ipython3",
   "version": "3.10.8"
  },
  "orig_nbformat": 4,
  "vscode": {
   "interpreter": {
    "hash": "138b4713af5235a70b5384d92e28cee99f63c1259256a0243797753507c0c38f"
   }
  }
 },
 "nbformat": 4,
 "nbformat_minor": 2
}
